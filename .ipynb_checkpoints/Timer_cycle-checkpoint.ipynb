{
 "cells": [
  {
   "cell_type": "code",
   "execution_count": 1,
   "metadata": {},
   "outputs": [
    {
     "name": "stdout",
     "output_type": "stream",
     "text": [
      "Using matplotlib backend: Qt5Agg\n",
      "[1]\n"
     ]
    }
   ],
   "source": [
    "from threading import Timer\n",
    "import time\n",
    "import matplotlib\n",
    "import matplotlib.pyplot as plt\n",
    "\n",
    "\n",
    "def get_n_data():\n",
    "    global i\n",
    "    # plt.cla()\n",
    "\n",
    "    i = i + 1\n",
    "    stock_list.append(i)\n",
    "    print(stock_list)\n",
    "\n",
    "    plt.figure(2)\n",
    "    plt.clf()\n",
    "    plt.plot(stock_list)\n",
    "    plt.draw()  # 注意此函数需要调用\n",
    "    time.sleep(1)\n",
    "\n",
    "    t = Timer(10, get_n_data)\n",
    "    t.start()\n",
    "\n",
    "\n",
    "if __name__ == \"__main__\":\n",
    "    plt.ion()  # 开启interactive mode 成功的关键函数\n",
    "    plt.figure(1)\n",
    "    i = 0\n",
    "    stock_list = []\n",
    "    get_n_data()\n"
   ]
  },
  {
   "cell_type": "code",
   "execution_count": null,
   "metadata": {},
   "outputs": [],
   "source": []
  }
 ],
 "metadata": {
  "kernelspec": {
   "display_name": "Python 3",
   "language": "python",
   "name": "python3"
  },
  "language_info": {
   "codemirror_mode": {
    "name": "ipython",
    "version": 3
   },
   "file_extension": ".py",
   "mimetype": "text/x-python",
   "name": "python",
   "nbconvert_exporter": "python",
   "pygments_lexer": "ipython3",
   "version": "3.7.7"
  }
 },
 "nbformat": 4,
 "nbformat_minor": 4
}
