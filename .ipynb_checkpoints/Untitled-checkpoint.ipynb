{
 "cells": [
  {
   "cell_type": "code",
   "execution_count": 1,
   "metadata": {},
   "outputs": [],
   "source": [
    "import requests\n",
    "import pandas as pd\n",
    "from threading import Timer\n",
    "import time\n",
    "import json\n",
    "from pandas import json_normalize\n",
    "import matplotlib\n",
    "import matplotlib.pyplot as plt\n",
    "%matplotlib qt5\n",
    "\n",
    "def get_n_data():\n",
    "    global i\n",
    "    #plt.cla()\n",
    "    \n",
    "    i = i + 1\n",
    "    stock_list.append(i)\n",
    "    print(stock_list)\n",
    "    \n",
    "    plt.figure(3)\n",
    "    plt.clf()\n",
    "    \n",
    "    plt.plot(stock_list)\n",
    "    plt.pause(0.001)\n",
    "    \n",
    "    if is_ipython:\n",
    "        display.clear_output(wait=True)\n",
    "        display.display(plt.gcf())\n",
    "    \n",
    "    t = Timer(10, get_n_data)\n",
    "    t.start()\n",
    "    \n",
    "if __name__ == \"__main__\":\n",
    "    i = 0\n",
    "    is_ipython = 'qt5' in matplotlib.get_backend()\n",
    "    if is_ipython:\n",
    "        from IPython import display\n",
    "    plt.ion()\n",
    "    \n",
    "    stock_list = []\n",
    "    get_n_data()\n",
    "    "
   ]
  },
  {
   "cell_type": "code",
   "execution_count": null,
   "metadata": {},
   "outputs": [],
   "source": []
  }
 ],
 "metadata": {
  "kernelspec": {
   "display_name": "Python 3",
   "language": "python",
   "name": "python3"
  },
  "language_info": {
   "codemirror_mode": {
    "name": "ipython",
    "version": 3
   },
   "file_extension": ".py",
   "mimetype": "text/x-python",
   "name": "python",
   "nbconvert_exporter": "python",
   "pygments_lexer": "ipython3",
   "version": "3.7.6"
  }
 },
 "nbformat": 4,
 "nbformat_minor": 4
}
