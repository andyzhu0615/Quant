{
 "cells": [
  {
   "cell_type": "code",
   "execution_count": 1,
   "metadata": {},
   "outputs": [
    {
     "name": "stdout",
     "output_type": "stream",
     "text": [
      "Using matplotlib backend: Qt5Agg\n",
      "[5]\n",
      "[5, 4]\n",
      "[5, 4, 9]\n",
      "[5, 4, 9, 1]\n",
      "[5, 4, 9, 1, 1]\n",
      "[5, 4, 9, 1, 1, 9]\n",
      "[5, 4, 9, 1, 1, 9, 2]\n",
      "[5, 4, 9, 1, 1, 9, 2, 5]\n",
      "[5, 4, 9, 1, 1, 9, 2, 5, 7]\n",
      "[5, 4, 9, 1, 1, 9, 2, 5, 7, 9]\n",
      "[5, 4, 9, 1, 1, 9, 2, 5, 7, 9, 6]\n",
      "[5, 4, 9, 1, 1, 9, 2, 5, 7, 9, 6, 7]\n",
      "[5, 4, 9, 1, 1, 9, 2, 5, 7, 9, 6, 7, 5]\n"
     ]
    }
   ],
   "source": [
    "import requests\n",
    "import pandas as pd\n",
    "from threading import Timer\n",
    "import time\n",
    "import random\n",
    "import matplotlib\n",
    "import matplotlib.pyplot as plt\n",
    "%matplotlib auto\n",
    "\n",
    "\n",
    "def plot_data():\n",
    "    aa = random.randint(1,9)\n",
    "\n",
    "    stock_list.append(aa)\n",
    "    print(stock_list)\n",
    "    fig = plt.figure(figsize = (16,8))\n",
    "    \n",
    "    plt.plot(stock_list)\n",
    "    plt.draw()\n",
    "    plt.pause(0.01)\n",
    "#------------------------------------------------------------\n",
    "    if is_ipython:\n",
    "        display.clear_output(wait=True)\n",
    "        display.display(plt.gcf())\n",
    "\n",
    "class RepeatingTimer(Timer): \n",
    "    def run(self):\n",
    "        while not self.finished.is_set():\n",
    "            self.function(*self.args, **self.kwargs)\n",
    "            self.finished.wait(self.interval)\n",
    "\n",
    "\n",
    "is_ipython = 'auto' in matplotlib.get_backend()\n",
    "if is_ipython:\n",
    "    from IPython import display\n",
    "\n",
    "\n",
    "#--------------------------------\n",
    "\n",
    "# fig, ax1 = plt.subplots()\n",
    "# ax1.set_xlabel(\"Index\")\n",
    "# ax1.set_ylabel(\"change_ratio\", color=\"r\")\n",
    "# ax1.tick_params(\"y\", color=\"b\")\n",
    "# ax2 = ax1.twinx()\n",
    "# ax2.set_ylabel(\"main_money\", color=\"r\")\n",
    "# ax2.tick_params(\"y\", colors=\"r\")\n",
    "\n",
    "#----------------------------------------\n",
    "stock_list = []\n",
    "t = RepeatingTimer(1.0, plot_data)\n",
    "t.start()"
   ]
  },
  {
   "cell_type": "code",
   "execution_count": null,
   "metadata": {},
   "outputs": [],
   "source": []
  }
 ],
 "metadata": {
  "kernelspec": {
   "display_name": "Python 3",
   "language": "python",
   "name": "python3"
  },
  "language_info": {
   "codemirror_mode": {
    "name": "ipython",
    "version": 3
   },
   "file_extension": ".py",
   "mimetype": "text/x-python",
   "name": "python",
   "nbconvert_exporter": "python",
   "pygments_lexer": "ipython3",
   "version": "3.7.7"
  }
 },
 "nbformat": 4,
 "nbformat_minor": 4
}
