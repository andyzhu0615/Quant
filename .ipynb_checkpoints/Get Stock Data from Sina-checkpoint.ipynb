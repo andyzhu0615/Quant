{
 "cells": [
  {
   "cell_type": "code",
   "execution_count": 2,
   "metadata": {},
   "outputs": [],
   "source": [
    "import requests\n",
    "import pandas as pd\n",
    "from threading import Timer\n",
    "import time"
   ]
  },
  {
   "cell_type": "code",
   "execution_count": 167,
   "metadata": {
    "scrolled": true
   },
   "outputs": [
    {
     "name": "stdout",
     "output_type": "stream",
     "text": [
      "['sh601857', '中国石油', 4.25, '4.270', '4.250', '4.260', '4.230', '4.250', '4.260', '52009560', '220893540.000', '2124971', '4.250', '3514420', '4.240', '5926400', '4.230', '5246100', '4.220', '1328100', '4.210', '1706500', '4.260', '3027897', '4.270', '2783205', '4.280', '1529120', '4.290', '1332100', '4.300', '2020-06-17', '15:00:00', '00', '']\n",
      "\n",
      "['sz002030', '达安基因', 29.02, '28.800', '31.680', '31.680', '28.960', '31.680', '0.000', '123041716', '3789626630.230', '2032934', '31.680', '7600', '31.670', '800', '31.660', '13700', '31.650', '8100', '31.640', '0', '0.000', '0', '0.000', '0', '0.000', '0', '0.000', '0', '0.000', '2020-06-17', '15:00:03', '00']\n",
      "\n",
      "['sh603222', '济民制药', 35.03, '38.920', '36.980', '37.640', '35.030', '36.970', '36.980', '23747013', '848879303.000', '2700', '36.970', '8500', '36.960', '2600', '36.950', '1300', '36.940', '5500', '36.930', '92182', '36.980', '63700', '36.990', '10900', '37.000', '200', '37.010', '300', '37.020', '2020-06-17', '15:00:00', '00', '']\n",
      "\n"
     ]
    }
   ],
   "source": [
    "stock = \"sh601857,sz002030,sh603222\"\n",
    "\n",
    "#r = requests.get(\"http://hq.sinajs.cn/rn=g4u1v&list=\" + stock)\n",
    "r = requests.get(\"http://hq.sinajs.cn/list=\" + stock)\n",
    "\n",
    "if r.status_code==200:\n",
    "    #print(r.text)\n",
    "    stock_list = []\n",
    "    split_lines = r.text.splitlines()\n",
    "    \n",
    "    for line in split_lines:\n",
    "        #print(line + \"\\n\")\n",
    "        stock_id = line[line.find(\"=\") - 8: line.find('=')]\n",
    "        #print(stock_id)\n",
    "        right_str = line[line.find(\"\\\"\") + 1: line.rindex(\"\\\"\")]\n",
    "        #print(right_str)\n",
    "        if len(right_str) > 0:\n",
    "            stock_field_list = right_str.split(\",\")\n",
    "            #print(stock_field_list)\n",
    "            stock_field_list[1] = round(float(stock_field_list[1]), 2)\n",
    "            if stock_field_list[1] > 0:\n",
    "                stock_field_list.insert(0, stock_id)\n",
    "                stock_list.append(stock_field_list)\n",
    "    for stock_item in stock_list:\n",
    "        print(str(stock_item) + \"\\n\")\n",
    "    \n",
    "    df = pd.DataFrame(stock_list)\n",
    "#     df = pd.DataFrame(stock_list, columns=['股票代码','股票名称','开盘价','昨收盘','当前价格','最高价','最低价','买一','卖一',\n",
    "#                                           '成交数','成交金额','买一股数','买一价格','买二','买二','买三','买三','买四','买四',\n",
    "#                                           '买五','买五','卖一','卖一','卖二','卖二','卖三','卖三','卖四','卖四','卖五','卖五',\n",
    "#                                            '日期','时间','dd','aa'])\n",
    "    df.to_csv('out.csv', index=False, encoding=\"utf_8_sig\")"
   ]
  },
  {
   "cell_type": "code",
   "execution_count": 132,
   "metadata": {},
   "outputs": [
    {
     "name": "stdout",
     "output_type": "stream",
     "text": [
      "['sh601857', '中国石油', 4.25, '4.270', '4.250', '4.260', '4.230', '4.250', '4.260', '52009560', '220893540.000', '2124971', '4.250', '3514420', '4.240', '5926400', '4.230', '5246100', '4.220', '1328100', '4.210', '1706500', '4.260', '3027897', '4.270', '2783205', '4.280', '1529120', '4.290', '1332100', '4.300', '2020-06-17', '15:00:00', '00', '']\n",
      "\n"
     ]
    }
   ],
   "source": [
    "stock = \"sh601857\"\n",
    "\n",
    "#r = requests.get(\"http://hq.sinajs.cn/rn=g4u1v&list=\" + stock)\n",
    "r = requests.get(\"http://hq.sinajs.cn/list=\" + stock)\n",
    "\n",
    "if r.status_code==200:\n",
    "    #print(r.text)\n",
    "    stock_list = []\n",
    "    split_lines = r.text.splitlines()\n",
    "    \n",
    "    for line in split_lines:\n",
    "        #print(line + \"\\n\")\n",
    "        stock_id = line[line.find(\"=\") - 8: line.find('=')]\n",
    "        #print(stock_id)\n",
    "        right_str = line[line.find(\"\\\"\") + 1: line.rindex(\"\\\"\")]\n",
    "        #print(right_str)\n",
    "        if len(right_str) > 0:\n",
    "            stock_field_list = right_str.split(\",\")\n",
    "            #print(stock_field_list)\n",
    "            stock_field_list[1] = round(float(stock_field_list[1]), 2)\n",
    "            if stock_field_list[1] > 0:\n",
    "                stock_field_list.insert(0, stock_id)\n",
    "                stock_list.append(stock_field_list)\n",
    "    for stock_item in stock_list:\n",
    "        print(str(stock_item) + \"\\n\")"
   ]
  },
  {
   "cell_type": "code",
   "execution_count": 3,
   "metadata": {
    "scrolled": true
   },
   "outputs": [
    {
     "name": "stdout",
     "output_type": "stream",
     "text": [
      "['sh601857', '中国石油', 4.25, '4.270', '4.250', '4.260', '4.230', '4.250', '4.260', '52009560', '220893540.000', '2124971', '4.250', '3514420', '4.240', '5926400', '4.230', '5246100', '4.220', '1328100', '4.210', '1706500', '4.260', '3027897', '4.270', '2783205', '4.280', '1529120', '4.290', '1332100', '4.300', '2020-06-17', '15:00:00', '00', '']\n",
      "\n",
      "Write to csv successfully\n",
      "['sh601857', '中国石油', 4.25, '4.270', '4.250', '4.260', '4.230', '4.250', '4.260', '52009560', '220893540.000', '2124971', '4.250', '3514420', '4.240', '5926400', '4.230', '5246100', '4.220', '1328100', '4.210', '1706500', '4.260', '3027897', '4.270', '2783205', '4.280', '1529120', '4.290', '1332100', '4.300', '2020-06-17', '15:00:00', '00', '']\n",
      "\n",
      "Write to csv successfully\n",
      "['sh601857', '中国石油', 4.25, '4.270', '4.250', '4.260', '4.230', '4.250', '4.260', '52009560', '220893540.000', '2124971', '4.250', '3514420', '4.240', '5926400', '4.230', '5246100', '4.220', '1328100', '4.210', '1706500', '4.260', '3027897', '4.270', '2783205', '4.280', '1529120', '4.290', '1332100', '4.300', '2020-06-17', '15:00:00', '00', '']\n",
      "\n",
      "Write to csv successfully\n"
     ]
    }
   ],
   "source": [
    "\n",
    "def get_n_data():\n",
    "    stock = \"sh601857\"\n",
    "    \n",
    "    #r = requests.get(\"http://hq.sinajs.cn/rn=g4u1v&list=\" + stock)\n",
    "    r = requests.get(\"http://hq.sinajs.cn/list=\" + stock)\n",
    "\n",
    "    if r.status_code==200:\n",
    "        #print(r.text)\n",
    "        stock_list = []\n",
    "        split_lines = r.text.splitlines()\n",
    "    \n",
    "        for line in split_lines:\n",
    "            #print(line + \"\\n\")\n",
    "            stock_id = line[line.find(\"=\") - 8: line.find('=')]\n",
    "            #print(stock_id)\n",
    "            right_str = line[line.find(\"\\\"\") + 1: line.rindex(\"\\\"\")]\n",
    "            #print(right_str)\n",
    "            if len(right_str) > 0:\n",
    "                stock_field_list = right_str.split(\",\")\n",
    "                #print(stock_field_list)\n",
    "                stock_field_list[1] = round(float(stock_field_list[1]), 2)\n",
    "                if stock_field_list[1] > 0:\n",
    "                    stock_field_list.insert(0, stock_id)\n",
    "                    stock_list.append(stock_field_list)\n",
    "        for stock_item in stock_list:\n",
    "            print(str(stock_item) + \"\\n\")\n",
    "    \n",
    "        df = pd.DataFrame(stock_list)\n",
    "        df.to_csv('out.csv', index=False, header=False, mode='a', encoding=\"utf_8_sig\")\n",
    "        \n",
    "        print(\"Write to csv successfully\")\n",
    "\n",
    "    t = Timer(10, get_n_data)\n",
    "    t.start()\n",
    "\n",
    "        \n",
    "if __name__ == \"__main__\":\n",
    "    i = 0\n",
    "    stock_list = []\n",
    "    df = pd.DataFrame(stock_list, columns=['股票代码','股票名称','开盘价','昨收盘','当前价格','最高价','最低价','买一价格',\n",
    "                                           '卖一价格','成交数','成交金额','买一股数','买一价格','买二股数','买二价格','买三股数',\n",
    "                                           '买三价格','买四股数','买四价格','买五股数','买五价格','卖一股数','卖一价格','卖二股数',\n",
    "                                           '卖二价格','卖三股数','卖三价格','卖四股数','卖四价格','卖五股数','卖五价格',\n",
    "                                           '日期','时间','dd','aa'])\n",
    "    df.to_csv('out.csv', index=False, encoding=\"utf_8_sig\")  \n",
    "    get_n_data()\n",
    "    \n",
    "\n"
   ]
  },
  {
   "cell_type": "code",
   "execution_count": 169,
   "metadata": {},
   "outputs": [],
   "source": [
    "    stock_list = []\n",
    "    df = pd.DataFrame(stock_list, columns=[])\n",
    "    df.to_csv('out.csv', index=False, encoding=\"utf_8_sig\")"
   ]
  }
 ],
 "metadata": {
  "kernelspec": {
   "display_name": "Python 3",
   "language": "python",
   "name": "python3"
  },
  "language_info": {
   "codemirror_mode": {
    "name": "ipython",
    "version": 3
   },
   "file_extension": ".py",
   "mimetype": "text/x-python",
   "name": "python",
   "nbconvert_exporter": "python",
   "pygments_lexer": "ipython3",
   "version": "3.7.6"
  }
 },
 "nbformat": 4,
 "nbformat_minor": 4
}
