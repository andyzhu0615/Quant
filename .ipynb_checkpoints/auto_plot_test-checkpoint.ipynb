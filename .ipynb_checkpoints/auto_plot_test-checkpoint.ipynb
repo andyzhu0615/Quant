{
 "cells": [
  {
   "cell_type": "code",
   "execution_count": 8,
   "metadata": {},
   "outputs": [
    {
     "name": "stdout",
     "output_type": "stream",
     "text": [
      "Using matplotlib backend: Qt5Agg\n",
      "Do something\n",
      "1\n",
      "当前线程数为6\n"
     ]
    },
    {
     "name": "stderr",
     "output_type": "stream",
     "text": [
      "Exception in thread Thread-12:\n",
      "Traceback (most recent call last):\n",
      "  File \"C:\\Users\\305027071\\Anaconda3\\lib\\threading.py\", line 926, in _bootstrap_inner\n",
      "    self.run()\n",
      "  File \"<ipython-input-8-28a59c81eb67>\", line 25, in run\n",
      "    self.function(*self.args, **self.kwargs)\n",
      "TypeError: 'NoneType' object is not callable\n",
      "\n"
     ]
    },
    {
     "name": "stdout",
     "output_type": "stream",
     "text": [
      "hello, world\n",
      "hello, world\n",
      "hello, world\n"
     ]
    }
   ],
   "source": [
    "from threading import Timer\n",
    "import threading\n",
    "import matplotlib.pyplot as plt\n",
    "%matplotlib auto\n",
    "\n",
    "def func1(a):\n",
    "     #print(\"hello, world\")\n",
    "    #Do something\n",
    "    print('Do something')\n",
    "    \n",
    "    data.append(a)\n",
    "    #ax.cla()\n",
    "    #ax.plot(data)\n",
    "    #plt.pause(0.3)\n",
    "             \n",
    "    a+=1\n",
    "    print(a)\n",
    "    print('当前线程数为{}'.format(threading.activeCount()))\n",
    "    if a>5:\n",
    "        return\n",
    "\n",
    "class RepeatingTimer(Timer): \n",
    "    def run(self):\n",
    "        while not self.finished.is_set():\n",
    "            self.function(*self.args, **self.kwargs)\n",
    "            self.finished.wait(self.interval)\n",
    "\n",
    "#fig,ax = plt.subplots()\n",
    "data = []\n",
    "\n",
    "t = RepeatingTimer(10.0, func1(0))\n",
    "t.start()"
   ]
  },
  {
   "cell_type": "code",
   "execution_count": 10,
   "metadata": {},
   "outputs": [
    {
     "ename": "SyntaxError",
     "evalue": "invalid syntax (<ipython-input-10-8c8ec9ea7a60>, line 4)",
     "output_type": "error",
     "traceback": [
      "\u001b[1;36m  File \u001b[1;32m\"<ipython-input-10-8c8ec9ea7a60>\"\u001b[1;36m, line \u001b[1;32m4\u001b[0m\n\u001b[1;33m    a+ = 1\u001b[0m\n\u001b[1;37m       ^\u001b[0m\n\u001b[1;31mSyntaxError\u001b[0m\u001b[1;31m:\u001b[0m invalid syntax\n"
     ]
    }
   ],
   "source": [
    "from threading import Timer\n",
    "\n",
    "def hello(a):\n",
    "    a+= 1\n",
    "    dat.append(a)\n",
    "    print(\"hello, world\")\n",
    "    print(dat)\n",
    "    \n",
    "class RepeatingTimer(Timer): \n",
    "    def run(self):\n",
    "        while not self.finished.is_set():\n",
    "            self.function(*self.args, **self.kwargs)\n",
    "            self.finished.wait(self.interval)\n",
    "\n",
    "dat = []            \n",
    "t = RepeatingTimer(10.0, hello(0))\n",
    "t.start()"
   ]
  },
  {
   "cell_type": "code",
   "execution_count": null,
   "metadata": {},
   "outputs": [],
   "source": []
  },
  {
   "cell_type": "code",
   "execution_count": null,
   "metadata": {},
   "outputs": [],
   "source": []
  },
  {
   "cell_type": "code",
   "execution_count": null,
   "metadata": {},
   "outputs": [],
   "source": []
  },
  {
   "cell_type": "code",
   "execution_count": null,
   "metadata": {},
   "outputs": [],
   "source": []
  },
  {
   "cell_type": "code",
   "execution_count": null,
   "metadata": {},
   "outputs": [],
   "source": []
  },
  {
   "cell_type": "code",
   "execution_count": null,
   "metadata": {},
   "outputs": [],
   "source": []
  }
 ],
 "metadata": {
  "kernelspec": {
   "display_name": "Python 3",
   "language": "python",
   "name": "python3"
  },
  "language_info": {
   "codemirror_mode": {
    "name": "ipython",
    "version": 3
   },
   "file_extension": ".py",
   "mimetype": "text/x-python",
   "name": "python",
   "nbconvert_exporter": "python",
   "pygments_lexer": "ipython3",
   "version": "3.7.6"
  }
 },
 "nbformat": 4,
 "nbformat_minor": 4
}
