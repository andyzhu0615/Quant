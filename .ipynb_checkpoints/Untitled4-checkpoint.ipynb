{
 "cells": [
  {
   "cell_type": "code",
   "execution_count": null,
   "metadata": {},
   "outputs": [],
   "source": [
    "import math\n",
    "import random\n",
    "import numpy as np\n",
    "import matplotlib\n",
    "import matplotlib.pyplot as plt\n",
    "%matplotlib auto\n",
    "\n",
    "# set up matplotlib\n",
    "is_ipython = 'auto' in matplotlib.get_backend()\n",
    "if is_ipython:\n",
    "    from IPython import display\n",
    "\n",
    "plt.ion()\n",
    "\n",
    "def plot_durations(y):\n",
    "    plt.figure(2)\n",
    "    plt.clf()\n",
    "    plt.subplot(211)\n",
    "    plt.plot(y[:,0])\n",
    "    plt.subplot(212)\n",
    "    plt.plot(y[:,1])\n",
    "\n",
    "    plt.pause(0.001)  # pause a bit so that plots are updated\n",
    "    if is_ipython:\n",
    "        display.clear_output(wait=True)\n",
    "        display.display(plt.gcf())\n",
    "        \n",
    "x = np.linspace(-10,10,500)\n",
    "y = []\n",
    "for i in range(len(x)):\n",
    "    y1 = np.cos(i/(3*3.14))\n",
    "    y2 = np.sin(i/(3*3.14))\n",
    "    y.append(np.array([y1,y2])) #保存历史数据\n",
    "    plot_durations(np.array(y))"
   ]
  }
 ],
 "metadata": {
  "kernelspec": {
   "display_name": "Python 3",
   "language": "python",
   "name": "python3"
  },
  "language_info": {
   "codemirror_mode": {
    "name": "ipython",
    "version": 3
   },
   "file_extension": ".py",
   "mimetype": "text/x-python",
   "name": "python",
   "nbconvert_exporter": "python",
   "pygments_lexer": "ipython3",
   "version": "3.7.6"
  }
 },
 "nbformat": 4,
 "nbformat_minor": 4
}
